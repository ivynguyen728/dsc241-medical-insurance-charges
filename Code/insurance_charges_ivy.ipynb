{
 "cells": [
  {
   "cell_type": "code",
   "execution_count": 1,
   "id": "8ac6aba0",
   "metadata": {},
   "outputs": [],
   "source": [
    "#!pip install kagglehub\n",
    "import kagglehub"
   ]
  },
  {
   "cell_type": "code",
   "execution_count": null,
   "id": "bcbd0595",
   "metadata": {},
   "outputs": [
    {
     "name": "stdout",
     "output_type": "stream",
     "text": [
      "Downloading from https://www.kaggle.com/api/v1/datasets/download/mirichoi0218/insurance?dataset_version_number=1...\n"
     ]
    },
    {
     "name": "stderr",
     "output_type": "stream",
     "text": [
      "100%|██████████| 16.0k/16.0k [00:00<00:00, 5.47MB/s]"
     ]
    },
    {
     "name": "stdout",
     "output_type": "stream",
     "text": [
      "Extracting files...\n",
      "Path to dataset files: C:\\Users\\vnguy\\.cache\\kagglehub\\datasets\\mirichoi0218\\insurance\\versions\\1\n",
      "Copied dataset to: ../data\n"
     ]
    },
    {
     "name": "stderr",
     "output_type": "stream",
     "text": [
      "\n"
     ]
    }
   ],
   "source": [
    "\"\"\"\n",
    "import shutil\n",
    "import os\n",
    "\n",
    "# Download latest version\n",
    "path = kagglehub.dataset_download(\"mirichoi0218/insurance\")\n",
    "print(\"Path to dataset files:\", path)\n",
    "\n",
    "target_path = \"../data\"\n",
    "os.makedirs(target_path, exist_ok=True)\n",
    "\n",
    "# Copy downloaded files to the target path\n",
    "for item in os.listdir(path):\n",
    "  s = os.path.join(path, item)\n",
    "  d = os.path.join(target_path, item)\n",
    "  if os.path.isdir(s):\n",
    "    shutil.copytree(s, d, dirs_exist_ok=True)\n",
    "  else:\n",
    "    shutil.copy2(s, d)\n",
    "\n",
    "print(\"Copied dataset to:\", target_path)\n",
    "\"\"\""
   ]
  },
  {
   "cell_type": "code",
   "execution_count": null,
   "id": "8a98636e",
   "metadata": {},
   "outputs": [],
   "source": []
  }
 ],
 "metadata": {
  "kernelspec": {
   "display_name": "base",
   "language": "python",
   "name": "python3"
  },
  "language_info": {
   "codemirror_mode": {
    "name": "ipython",
    "version": 3
   },
   "file_extension": ".py",
   "mimetype": "text/x-python",
   "name": "python",
   "nbconvert_exporter": "python",
   "pygments_lexer": "ipython3",
   "version": "3.9.19"
  }
 },
 "nbformat": 4,
 "nbformat_minor": 5
}
